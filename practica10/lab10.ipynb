{
 "cells": [
  {
   "cell_type": "code",
   "execution_count": null,
   "id": "fe06646c",
   "metadata": {},
   "outputs": [],
   "source": [
    "def area(height, base): \n",
    "    return height * base;"
   ]
  },
  {
   "cell_type": "code",
   "execution_count": 7,
   "id": "ec03de04",
   "metadata": {},
   "outputs": [],
   "source": [
    "def greatest(number1, number2):\n",
    "    if(number1 > number2):\n",
    "        return number1\n",
    "    else: \n",
    "        return number2"
   ]
  },
  {
   "cell_type": "code",
   "execution_count": null,
   "id": "8652b32d",
   "metadata": {},
   "outputs": [],
   "source": [
    "height = float(input(\"Input the height of the rectangle: \"))\n",
    "base = float(input(\"Input its base : \"))\n",
    "print(f\"Area of the given rectangle : {area(height, base)}\")"
   ]
  },
  {
   "cell_type": "markdown",
   "id": "458555db",
   "metadata": {},
   "source": [
    "Function: Find the greatest number out of a 3 numbers set"
   ]
  },
  {
   "cell_type": "code",
   "execution_count": 9,
   "id": "9a7750bc",
   "metadata": {},
   "outputs": [],
   "source": [
    "def greatest(number1, number2, number3):\n",
    "    greatest_number = number1\n",
    "    if(number2 > greatest_number):\n",
    "        greatest_number = number2\n",
    "    if(number3 > greatest_number):\n",
    "        greatest_number = number3\n",
    "    return greatest_number"
   ]
  },
  {
   "cell_type": "code",
   "execution_count": 11,
   "id": "13b3892b",
   "metadata": {},
   "outputs": [
    {
     "name": "stdout",
     "output_type": "stream",
     "text": [
      "Number 1 : 10\n",
      "Number 2 : 6\n",
      "Number 3 : 8\n",
      "The greatest number is 10\n"
     ]
    }
   ],
   "source": [
    "number1 = int(input(\"Number 1 : \"))\n",
    "number2 = int(input(\"Number 2 : \"))\n",
    "number3 = int(input(\"Number 3 : \"))\n",
    "print(f\"The greatest number is {greatest(number1, number2, number3)}\")"
   ]
  },
  {
   "cell_type": "markdown",
   "id": "72ae5599",
   "metadata": {},
   "source": [
    "Function to choose an option from a menu"
   ]
  },
  {
   "cell_type": "code",
   "execution_count": 13,
   "id": "2f43ab3c",
   "metadata": {},
   "outputs": [],
   "source": [
    "def menu(op):\n",
    "    if (op == 1):\n",
    "        print(\"Option 1\")\n",
    "    elif (op == 2):\n",
    "        print(\"Option 2\")\n",
    "    elif (op == 3):\n",
    "        print(\"Options 3\")\n",
    "    elif (op == 4):\n",
    "        print(\"Options 4\")\n",
    "    elif (op == 5):\n",
    "        print(\"Options 5\")\n",
    "    elif (op == 6):\n",
    "        print(\"Options 6\")"
   ]
  },
  {
   "cell_type": "code",
   "execution_count": 21,
   "id": "3064ef8e",
   "metadata": {},
   "outputs": [],
   "source": [
    "def cuenta(n):\n",
    "    i = 0\n",
    "    while(i <= n):\n",
    "        print(i)\n",
    "        i+=1"
   ]
  },
  {
   "cell_type": "code",
   "execution_count": 23,
   "id": "694cc7de",
   "metadata": {},
   "outputs": [
    {
     "name": "stdout",
     "output_type": "stream",
     "text": [
      "0\n",
      "1\n",
      "2\n",
      "3\n",
      "4\n",
      "5\n",
      "6\n",
      "7\n",
      "8\n",
      "9\n",
      "10\n"
     ]
    }
   ],
   "source": [
    "cuenta(10)"
   ]
  },
  {
   "cell_type": "code",
   "execution_count": 30,
   "id": "6bf0e208",
   "metadata": {},
   "outputs": [
    {
     "name": "stdout",
     "output_type": "stream",
     "text": [
      "a\n",
      "mun\n",
      "d\n",
      "Hola mundo Hola mundo\n",
      "21\n"
     ]
    }
   ],
   "source": [
    "# Cadenas\n",
    "cad = \"Hola mundo\"\n",
    "cad1 = 'Hola mundo'\n",
    "print(cad[3])\n",
    "print(cad[5:8])\n",
    "print(cad[-2])\n",
    "\n",
    "cad2 = cad + \" \" + cad1\n",
    "print(cad2)\n",
    "print(len(cad2))"
   ]
  },
  {
   "cell_type": "code",
   "execution_count": 33,
   "id": "b626bc4c",
   "metadata": {},
   "outputs": [
    {
     "name": "stdout",
     "output_type": "stream",
     "text": [
      "7\n",
      "a\n",
      "[1, 2, 3.4, 55.6, 'hola', 'mundo', [1, 2, 3, 4, 5], ['w', 'e']]\n"
     ]
    }
   ],
   "source": [
    "#Listas \n",
    "L = []\n",
    "L1 = [1,2,3,4,5,6,7,8]\n",
    "L3 = [1,2,3.4,55.6,\"hola\",\"mundo\",[1,2,3,4,5]]\n",
    "print(len(L3))\n",
    "print(L3[4][3])\n",
    "# Agregar elementos a la lista L3\n",
    "\n",
    "L3.append([\"w\",\"e\"])\n",
    "\n",
    "print(L3)"
   ]
  },
  {
   "cell_type": "code",
   "execution_count": 35,
   "id": "2de3deaa",
   "metadata": {},
   "outputs": [
    {
     "name": "stdout",
     "output_type": "stream",
     "text": [
      "p\n",
      "y\n",
      "t\n",
      "h\n",
      "o\n",
      "n\n",
      " \n",
      "3\n",
      "2\n",
      "5\n",
      "44\n",
      "8\n",
      "88\n",
      "t\n",
      "0\n",
      "1\n",
      "2\n",
      "3\n",
      "4\n",
      "5\n",
      "6\n",
      "7\n",
      "8\n",
      "9\n"
     ]
    }
   ],
   "source": [
    "Lis = [2, 5, 44, 8, 88, \"t\"]\n",
    "cadena1 = \"python 3\"\n",
    "for k in cadena1:\n",
    "    print(k)\n",
    "for k in Lis:\n",
    "    print(k)\n",
    "    \n",
    "for i in range(10):\n",
    "    print(i)"
   ]
  },
  {
   "cell_type": "code",
   "execution_count": 38,
   "id": "17d479c9",
   "metadata": {},
   "outputs": [
    {
     "name": "stdout",
     "output_type": "stream",
     "text": [
      "-2\n",
      "0\n",
      "2\n",
      "4\n",
      "6\n",
      "8\n"
     ]
    }
   ],
   "source": [
    "for i in range(-2,10, 2):\n",
    "    print(i)"
   ]
  },
  {
   "cell_type": "code",
   "execution_count": 42,
   "id": "94859509",
   "metadata": {},
   "outputs": [
    {
     "name": "stdout",
     "output_type": "stream",
     "text": [
      "10\n",
      "9\n",
      "8\n",
      "7\n",
      "6\n",
      "5\n",
      "4\n",
      "3\n",
      "2\n",
      "1\n"
     ]
    }
   ],
   "source": [
    "for i in range(10, 0, -1):\n",
    "    print(i)"
   ]
  },
  {
   "cell_type": "code",
   "execution_count": 59,
   "id": "da4338c5",
   "metadata": {},
   "outputs": [
    {
     "name": "stdout",
     "output_type": "stream",
     "text": [
      "[2, 3, 4, 5]\n"
     ]
    }
   ],
   "source": [
    "L = [1,2,3,4]\n",
    "\n",
    "def incLis(lista):\n",
    "    for i in range(len(lista)):\n",
    "        lista[i] = lista[i] + 1\n",
    "\n",
    "def sumaVec(v1, v2):\n",
    "    sizev1 = len(v1)\n",
    "    sizev2 = len(v2)\n",
    "    if(sizev1 != sizev2):\n",
    "        return 0\n",
    "    v3 = [0 for numero in range(sizev1)]\n",
    "    for i in range(sizev1):\n",
    "        v3[i] = v1[i] + v2[i]\n",
    "    return v3\n",
    "        \n",
    "def main():\n",
    "    L=[1,2,3,4]\n",
    "    incLis(L)\n",
    "    print(L)\n",
    "main()"
   ]
  },
  {
   "cell_type": "code",
   "execution_count": 63,
   "id": "eaa558f0",
   "metadata": {},
   "outputs": [
    {
     "name": "stdout",
     "output_type": "stream",
     "text": [
      "Suma de vectores [1, 2, 3, 4, 5] + [5, 6, 7, 8, 9]: [6, 8, 10, 12, 14]\n"
     ]
    }
   ],
   "source": [
    "v1 = [i+1 for i in range(5)]\n",
    "v2 = [i+5 for i in range(5)]\n",
    "print(f\"Suma de vectores {v1} + {v2}: {sumaVec(v1, v2)}\")"
   ]
  }
 ],
 "metadata": {
  "kernelspec": {
   "display_name": "Python 3 (ipykernel)",
   "language": "python",
   "name": "python3"
  },
  "language_info": {
   "codemirror_mode": {
    "name": "ipython",
    "version": 3
   },
   "file_extension": ".py",
   "mimetype": "text/x-python",
   "name": "python",
   "nbconvert_exporter": "python",
   "pygments_lexer": "ipython3",
   "version": "3.9.7"
  }
 },
 "nbformat": 4,
 "nbformat_minor": 5
}
